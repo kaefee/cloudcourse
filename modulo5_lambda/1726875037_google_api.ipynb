{
 "cells": [
  {
   "cell_type": "code",
   "execution_count": 2,
   "metadata": {},
   "outputs": [],
   "source": [
    "import gspread\n",
    "from google.oauth2.service_account import Credentials\n"
   ]
  },
  {
   "cell_type": "code",
   "execution_count": 3,
   "metadata": {},
   "outputs": [],
   "source": [
    "# Definir el ámbito (scope) para acceder a la API de Google Sheets\n",
    "scope = [\"https://spreadsheets.google.com/feeds\", \"https://www.googleapis.com/auth/drive\"]\n",
    "\n",
    "# Autenticación con las credenciales de la cuenta de servicio\n",
    "creds = Credentials.from_service_account_file('unisabana-cloud-99b5a09fc655.json', scopes=scope)\n",
    "client = gspread.authorize(creds)\n"
   ]
  },
  {
   "cell_type": "code",
   "execution_count": 15,
   "metadata": {},
   "outputs": [
    {
     "name": "stdout",
     "output_type": "stream",
     "text": [
      "[{'id': 1, 'nombre_estudiante': 'Ana García', 'nota': 85, 'comentarios': 'Buen trabajo', 'status': '', 'fecha_actualizacion': ''}, {'id': 2, 'nombre_estudiante': 'Carlos Pérez', 'nota': 90, 'comentarios': 'Excelente participación', 'status': 'actualizar', 'fecha_actualizacion': ''}, {'id': 3, 'nombre_estudiante': 'María López', 'nota': 78, 'comentarios': 'Mejorar en algunos conceptos', 'status': '', 'fecha_actualizacion': ''}, {'id': 4, 'nombre_estudiante': 'Jorge Hernández', 'nota': 92, 'comentarios': 'Trabajo impecable', 'status': '', 'fecha_actualizacion': ''}, {'id': 5, 'nombre_estudiante': 'Sofía Martínez', 'nota': 88, 'comentarios': 'Buena comprensión de la materia', 'status': '', 'fecha_actualizacion': ''}, {'id': 6, 'nombre_estudiante': 'Luis Gómez', 'nota': 76, 'comentarios': 'Requiere más práctica', 'status': '', 'fecha_actualizacion': ''}, {'id': 7, 'nombre_estudiante': 'Lucía Ramírez', 'nota': 95, 'comentarios': 'Trabajo sobresaliente', 'status': '', 'fecha_actualizacion': ''}, {'id': 8, 'nombre_estudiante': 'Pedro Fernández', 'nota': 89, 'comentarios': 'Muy buena participación en clase', 'status': '', 'fecha_actualizacion': ''}, {'id': 9, 'nombre_estudiante': 'Marta Sánchez', 'nota': 84, 'comentarios': 'Buen manejo de los conceptos', 'status': '', 'fecha_actualizacion': ''}, {'id': 10, 'nombre_estudiante': 'Diego Torres', 'nota': 91, 'comentarios': 'Excelente desempeño', 'status': '', 'fecha_actualizacion': ''}]\n"
     ]
    }
   ],
   "source": [
    "\n",
    "# Abrir la hoja de cálculo y seleccionar la hoja específica\n",
    "sheet = client.open('2024_AWS_LAMBDA').sheet1\n",
    "\n",
    "# Obtener todos los registros como una lista de diccionarios\n",
    "data = sheet.get_all_records()\n",
    "print(data)"
   ]
  },
  {
   "cell_type": "code",
   "execution_count": 16,
   "metadata": {},
   "outputs": [
    {
     "name": "stdout",
     "output_type": "stream",
     "text": [
      "{'id': 1, 'nombre_estudiante': 'Ana García', 'nota': 85, 'comentarios': 'Buen trabajo', 'status': '', 'fecha_actualizacion': ''}\n",
      "{'id': 2, 'nombre_estudiante': 'Carlos Pérez', 'nota': 90, 'comentarios': 'Excelente participación', 'status': 'actualizar', 'fecha_actualizacion': ''}\n",
      "{'id': 3, 'nombre_estudiante': 'María López', 'nota': 78, 'comentarios': 'Mejorar en algunos conceptos', 'status': '', 'fecha_actualizacion': ''}\n",
      "{'id': 4, 'nombre_estudiante': 'Jorge Hernández', 'nota': 92, 'comentarios': 'Trabajo impecable', 'status': '', 'fecha_actualizacion': ''}\n",
      "{'id': 5, 'nombre_estudiante': 'Sofía Martínez', 'nota': 88, 'comentarios': 'Buena comprensión de la materia', 'status': '', 'fecha_actualizacion': ''}\n",
      "{'id': 6, 'nombre_estudiante': 'Luis Gómez', 'nota': 76, 'comentarios': 'Requiere más práctica', 'status': '', 'fecha_actualizacion': ''}\n",
      "{'id': 7, 'nombre_estudiante': 'Lucía Ramírez', 'nota': 95, 'comentarios': 'Trabajo sobresaliente', 'status': '', 'fecha_actualizacion': ''}\n",
      "{'id': 8, 'nombre_estudiante': 'Pedro Fernández', 'nota': 89, 'comentarios': 'Muy buena participación en clase', 'status': '', 'fecha_actualizacion': ''}\n",
      "{'id': 9, 'nombre_estudiante': 'Marta Sánchez', 'nota': 84, 'comentarios': 'Buen manejo de los conceptos', 'status': '', 'fecha_actualizacion': ''}\n",
      "{'id': 10, 'nombre_estudiante': 'Diego Torres', 'nota': 91, 'comentarios': 'Excelente desempeño', 'status': '', 'fecha_actualizacion': ''}\n"
     ]
    }
   ],
   "source": [
    "import psycopg2\n",
    "import os\n",
    "\n",
    "# Conectar a PostgreSQL\n",
    "conn = psycopg2.connect(\n",
    "    host='unisabana-cloud-db.cxmks5kpi98m.us-east-1.rds.amazonaws.com',\n",
    "    database='notas_unisabana',\n",
    "    user='postgres',\n",
    "    password='unisabana101'\n",
    ")\n",
    "cur = conn.cursor()\n",
    "\n",
    "# Insertar datos en PostgreSQL\n",
    "for row in data:\n",
    "    print(row)\n",
    "    cur.execute(\"\"\"\n",
    "        INSERT INTO notas_clase (id, nombre_estudiante, nota)\n",
    "        VALUES (%s, %s, %s)\n",
    "    \"\"\", (row['id'], row['nombre_estudiante'], row['nota']))\n",
    "\n",
    "conn.commit()\n",
    "cur.close()\n",
    "conn.close()\n",
    "\n"
   ]
  }
 ],
 "metadata": {
  "kernelspec": {
   "display_name": "USAB_CLOUD101",
   "language": "python",
   "name": "python3"
  },
  "language_info": {
   "codemirror_mode": {
    "name": "ipython",
    "version": 3
   },
   "file_extension": ".py",
   "mimetype": "text/x-python",
   "name": "python",
   "nbconvert_exporter": "python",
   "pygments_lexer": "ipython3",
   "version": "3.12.5"
  }
 },
 "nbformat": 4,
 "nbformat_minor": 2
}
