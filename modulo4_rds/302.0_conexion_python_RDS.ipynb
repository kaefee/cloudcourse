{
 "cells": [
  {
   "cell_type": "markdown",
   "metadata": {
    "tags": [
     "slide"
    ]
   },
   "source": [
    "# 302.0 Conexión a una base de datos con Python\n",
    "\n",
    "Existen varias opciones para conectarse a una base de datos desde python, en particular para una conexión a postgreSQL las principales opciones son el driver psycopg2 o la librería sqlAlchemy."
   ]
  },
  {
   "cell_type": "markdown",
   "metadata": {},
   "source": [
    "```{admonition} Recursos\n",
    "\n",
    "- Conjunto de datos para el ejercicio: {download}`Datos Call Center<datos_call_center.zip>`\n",
    "\n",
    "- Jupyter Notebook : {download}`Conexión Python RDS<302.0_conexion_python_RDS.ipynb>`\n",
    "\n",
    "```"
   ]
  },
  {
   "cell_type": "code",
   "execution_count": 1,
   "metadata": {},
   "outputs": [],
   "source": [
    "#conda create --name NOMBRE python=3.10"
   ]
  },
  {
   "cell_type": "markdown",
   "metadata": {
    "tags": [
     "slide"
    ]
   },
   "source": [
    "## Conexión usando el driver psycopg2\n",
    "\n",
    "Dentro de las ventajas de esta librería se encuentran sus capacidades multihilo, que le permiten manejar un gran número de escrituras y lecturas de manera concurrente. \n",
    "\n",
    "El comando básico para realizar la instalación mediante el instalador de paquetes [pip](https://pypi.org/project/pip/) de python es \n",
    "\n",
    "`$ pip install psycopg2-binary`\n",
    "\n",
    "Tenga en cuenta los pre-requisitos para esta librería\n",
    "\n",
    "- Versión de Python 3.6 a 3.10\n",
    "- Versión de postgreSQL 7.4 to 14\n",
    "- Cliente de postgreSQL 9.1 o superior\n",
    "\n",
    "```{note}\n",
    "Información adicional de instalación está disponible en  https://www.psycopg.org/docs/install.html#install-from-source\n",
    "```"
   ]
  },
  {
   "cell_type": "markdown",
   "metadata": {},
   "source": [
    "**Notas:** \n",
    "**Asegure la compatibilidad del entorno de instalación usando conda, venv o docker**\n",
    "**Versión Python 3.10 para evitar errores de conexión por contraseña**\n",
    "\n",
    "https://docs.conda.io/en/latest/miniconda.html"
   ]
  },
  {
   "cell_type": "code",
   "execution_count": 2,
   "metadata": {
    "tags": [
     "slide"
    ]
   },
   "outputs": [],
   "source": [
    "# Librerías requeridas para la conexión y muestra de información\n",
    "import psycopg2 as ps\n",
    "import pandas as pd"
   ]
  },
  {
   "cell_type": "code",
   "execution_count": 2,
   "metadata": {
    "slideshow": {
     "slide_type": "subslide"
    }
   },
   "outputs": [],
   "source": [
    "#parámetros de conexión AWS, usar variables de entorno\n",
    "host = \"database-1.cloyu6seeky2.us-east-1.rds.amazonaws.com\"\n",
    "port = '5432'\n",
    "user = 'postgres'\n",
    "password = 'unisabana2024#'\n",
    "database = 'callcenterdb' #verificar la existencia de la base datos"
   ]
  },
  {
   "cell_type": "code",
   "execution_count": 3,
   "metadata": {},
   "outputs": [],
   "source": [
    "# #parámetros de conexión Local, usar variables de entorno\n",
    "# host = \"localhost\"\n",
    "# port = '5432'\n",
    "# user = 'user'\n",
    "# password = 'password'\n",
    "# database = 'mydatabase' #verificar la existencia de la base datos"
   ]
  },
  {
   "cell_type": "code",
   "execution_count": 4,
   "metadata": {
    "slideshow": {
     "slide_type": "fragment"
    }
   },
   "outputs": [
    {
     "name": "stdout",
     "output_type": "stream",
     "text": [
      "Connected!\n"
     ]
    }
   ],
   "source": [
    "# Conectar a la base de datos\n",
    "\n",
    "try:\n",
    "    connps = ps.connect(host=host,database=database,user=user,password=password,port=port)\n",
    "except ps.OperationalError as e:\n",
    "    raise e\n",
    "else:\n",
    "    print('Connected!')"
   ]
  },
  {
   "cell_type": "code",
   "execution_count": 6,
   "metadata": {},
   "outputs": [
    {
     "name": "stderr",
     "output_type": "stream",
     "text": [
      "C:\\Users\\rodol\\AppData\\Local\\Temp\\ipykernel_38616\\1263083436.py:2: UserWarning: pandas only supports SQLAlchemy connectable (engine/connection) or database string URI or sqlite3 DBAPI2 connection. Other DBAPI2 objects are not tested. Please consider using SQLAlchemy.\n",
      "  call_data = pd.read_sql('SELECT * FROM calldata', connps)\n"
     ]
    }
   ],
   "source": [
    "# Lectura de la tabla call_data de la base de datos\n",
    "call_data = pd.read_sql('SELECT * FROM calldata', connps)"
   ]
  },
  {
   "cell_type": "code",
   "execution_count": 7,
   "metadata": {},
   "outputs": [
    {
     "data": {
      "text/html": [
       "<div>\n",
       "<style scoped>\n",
       "    .dataframe tbody tr th:only-of-type {\n",
       "        vertical-align: middle;\n",
       "    }\n",
       "\n",
       "    .dataframe tbody tr th {\n",
       "        vertical-align: top;\n",
       "    }\n",
       "\n",
       "    .dataframe thead th {\n",
       "        text-align: right;\n",
       "    }\n",
       "</style>\n",
       "<table border=\"1\" class=\"dataframe\">\n",
       "  <thead>\n",
       "    <tr style=\"text-align: right;\">\n",
       "      <th></th>\n",
       "      <th>YR_MO</th>\n",
       "      <th>CALL_DATE</th>\n",
       "      <th>AGENT_KEY</th>\n",
       "      <th>CALLS</th>\n",
       "      <th>HANDLE_TIME</th>\n",
       "      <th>CALL_REGEN</th>\n",
       "      <th>CALLS_WITH_OFFER</th>\n",
       "      <th>CALLS_WITH_ACCEPT</th>\n",
       "      <th>CALLS_OFFER_APPLIED</th>\n",
       "      <th>TRANSFERS</th>\n",
       "    </tr>\n",
       "  </thead>\n",
       "  <tbody>\n",
       "    <tr>\n",
       "      <th>0</th>\n",
       "      <td>201706</td>\n",
       "      <td>2017-06-01</td>\n",
       "      <td>12465</td>\n",
       "      <td>34</td>\n",
       "      <td>25710</td>\n",
       "      <td>5</td>\n",
       "      <td>31</td>\n",
       "      <td>22</td>\n",
       "      <td>19</td>\n",
       "      <td>2</td>\n",
       "    </tr>\n",
       "    <tr>\n",
       "      <th>1</th>\n",
       "      <td>201706</td>\n",
       "      <td>2017-06-01</td>\n",
       "      <td>12466</td>\n",
       "      <td>35</td>\n",
       "      <td>25039</td>\n",
       "      <td>4</td>\n",
       "      <td>34</td>\n",
       "      <td>29</td>\n",
       "      <td>26</td>\n",
       "      <td>2</td>\n",
       "    </tr>\n",
       "    <tr>\n",
       "      <th>2</th>\n",
       "      <td>201706</td>\n",
       "      <td>2017-06-01</td>\n",
       "      <td>12467</td>\n",
       "      <td>38</td>\n",
       "      <td>24436</td>\n",
       "      <td>6</td>\n",
       "      <td>36</td>\n",
       "      <td>32</td>\n",
       "      <td>28</td>\n",
       "      <td>3</td>\n",
       "    </tr>\n",
       "    <tr>\n",
       "      <th>3</th>\n",
       "      <td>201706</td>\n",
       "      <td>2017-06-01</td>\n",
       "      <td>12468</td>\n",
       "      <td>38</td>\n",
       "      <td>24923</td>\n",
       "      <td>5</td>\n",
       "      <td>37</td>\n",
       "      <td>32</td>\n",
       "      <td>25</td>\n",
       "      <td>2</td>\n",
       "    </tr>\n",
       "    <tr>\n",
       "      <th>4</th>\n",
       "      <td>201706</td>\n",
       "      <td>2017-06-01</td>\n",
       "      <td>12469</td>\n",
       "      <td>34</td>\n",
       "      <td>24371</td>\n",
       "      <td>4</td>\n",
       "      <td>32</td>\n",
       "      <td>25</td>\n",
       "      <td>22</td>\n",
       "      <td>2</td>\n",
       "    </tr>\n",
       "  </tbody>\n",
       "</table>\n",
       "</div>"
      ],
      "text/plain": [
       "    YR_MO   CALL_DATE  AGENT_KEY  CALLS  HANDLE_TIME  CALL_REGEN  \\\n",
       "0  201706  2017-06-01      12465     34        25710           5   \n",
       "1  201706  2017-06-01      12466     35        25039           4   \n",
       "2  201706  2017-06-01      12467     38        24436           6   \n",
       "3  201706  2017-06-01      12468     38        24923           5   \n",
       "4  201706  2017-06-01      12469     34        24371           4   \n",
       "\n",
       "   CALLS_WITH_OFFER  CALLS_WITH_ACCEPT  CALLS_OFFER_APPLIED  TRANSFERS  \n",
       "0                31                 22                   19          2  \n",
       "1                34                 29                   26          2  \n",
       "2                36                 32                   28          3  \n",
       "3                37                 32                   25          2  \n",
       "4                32                 25                   22          2  "
      ]
     },
     "execution_count": 7,
     "metadata": {},
     "output_type": "execute_result"
    }
   ],
   "source": [
    "#muestra de la información\n",
    "call_data.head()"
   ]
  },
  {
   "cell_type": "markdown",
   "metadata": {},
   "source": [
    "## Conexión a la base de datos usando SQLAlchemy\n",
    "Para la conexión usando SQLAlchemy se usaran los mismos parámetros cambiando la sintaxis e importando las librerias de SQLAlchemy"
   ]
  },
  {
   "cell_type": "code",
   "execution_count": 8,
   "metadata": {},
   "outputs": [],
   "source": [
    "from sqlalchemy import create_engine"
   ]
  },
  {
   "cell_type": "code",
   "execution_count": 9,
   "metadata": {},
   "outputs": [],
   "source": [
    "connAlchemy = create_engine(f'postgresql://{user}:{password}@{host}:{port}/{database}')\n",
    "conn = connAlchemy.raw_connection()\n",
    "cur = conn.cursor()"
   ]
  },
  {
   "cell_type": "code",
   "execution_count": 10,
   "metadata": {},
   "outputs": [],
   "source": [
    "call_data2 = pd.read_sql('SELECT * FROM calldata', connAlchemy)"
   ]
  },
  {
   "cell_type": "code",
   "execution_count": 11,
   "metadata": {},
   "outputs": [
    {
     "data": {
      "text/html": [
       "<div>\n",
       "<style scoped>\n",
       "    .dataframe tbody tr th:only-of-type {\n",
       "        vertical-align: middle;\n",
       "    }\n",
       "\n",
       "    .dataframe tbody tr th {\n",
       "        vertical-align: top;\n",
       "    }\n",
       "\n",
       "    .dataframe thead th {\n",
       "        text-align: right;\n",
       "    }\n",
       "</style>\n",
       "<table border=\"1\" class=\"dataframe\">\n",
       "  <thead>\n",
       "    <tr style=\"text-align: right;\">\n",
       "      <th></th>\n",
       "      <th>YR_MO</th>\n",
       "      <th>CALL_DATE</th>\n",
       "      <th>AGENT_KEY</th>\n",
       "      <th>CALLS</th>\n",
       "      <th>HANDLE_TIME</th>\n",
       "      <th>CALL_REGEN</th>\n",
       "      <th>CALLS_WITH_OFFER</th>\n",
       "      <th>CALLS_WITH_ACCEPT</th>\n",
       "      <th>CALLS_OFFER_APPLIED</th>\n",
       "      <th>TRANSFERS</th>\n",
       "    </tr>\n",
       "  </thead>\n",
       "  <tbody>\n",
       "    <tr>\n",
       "      <th>0</th>\n",
       "      <td>201706</td>\n",
       "      <td>2017-06-01</td>\n",
       "      <td>12465</td>\n",
       "      <td>34</td>\n",
       "      <td>25710</td>\n",
       "      <td>5</td>\n",
       "      <td>31</td>\n",
       "      <td>22</td>\n",
       "      <td>19</td>\n",
       "      <td>2</td>\n",
       "    </tr>\n",
       "    <tr>\n",
       "      <th>1</th>\n",
       "      <td>201706</td>\n",
       "      <td>2017-06-01</td>\n",
       "      <td>12466</td>\n",
       "      <td>35</td>\n",
       "      <td>25039</td>\n",
       "      <td>4</td>\n",
       "      <td>34</td>\n",
       "      <td>29</td>\n",
       "      <td>26</td>\n",
       "      <td>2</td>\n",
       "    </tr>\n",
       "    <tr>\n",
       "      <th>2</th>\n",
       "      <td>201706</td>\n",
       "      <td>2017-06-01</td>\n",
       "      <td>12467</td>\n",
       "      <td>38</td>\n",
       "      <td>24436</td>\n",
       "      <td>6</td>\n",
       "      <td>36</td>\n",
       "      <td>32</td>\n",
       "      <td>28</td>\n",
       "      <td>3</td>\n",
       "    </tr>\n",
       "    <tr>\n",
       "      <th>3</th>\n",
       "      <td>201706</td>\n",
       "      <td>2017-06-01</td>\n",
       "      <td>12468</td>\n",
       "      <td>38</td>\n",
       "      <td>24923</td>\n",
       "      <td>5</td>\n",
       "      <td>37</td>\n",
       "      <td>32</td>\n",
       "      <td>25</td>\n",
       "      <td>2</td>\n",
       "    </tr>\n",
       "    <tr>\n",
       "      <th>4</th>\n",
       "      <td>201706</td>\n",
       "      <td>2017-06-01</td>\n",
       "      <td>12469</td>\n",
       "      <td>34</td>\n",
       "      <td>24371</td>\n",
       "      <td>4</td>\n",
       "      <td>32</td>\n",
       "      <td>25</td>\n",
       "      <td>22</td>\n",
       "      <td>2</td>\n",
       "    </tr>\n",
       "  </tbody>\n",
       "</table>\n",
       "</div>"
      ],
      "text/plain": [
       "    YR_MO   CALL_DATE  AGENT_KEY  CALLS  HANDLE_TIME  CALL_REGEN  \\\n",
       "0  201706  2017-06-01      12465     34        25710           5   \n",
       "1  201706  2017-06-01      12466     35        25039           4   \n",
       "2  201706  2017-06-01      12467     38        24436           6   \n",
       "3  201706  2017-06-01      12468     38        24923           5   \n",
       "4  201706  2017-06-01      12469     34        24371           4   \n",
       "\n",
       "   CALLS_WITH_OFFER  CALLS_WITH_ACCEPT  CALLS_OFFER_APPLIED  TRANSFERS  \n",
       "0                31                 22                   19          2  \n",
       "1                34                 29                   26          2  \n",
       "2                36                 32                   28          3  \n",
       "3                37                 32                   25          2  \n",
       "4                32                 25                   22          2  "
      ]
     },
     "execution_count": 11,
     "metadata": {},
     "output_type": "execute_result"
    }
   ],
   "source": [
    "call_data2.head()"
   ]
  },
  {
   "cell_type": "markdown",
   "metadata": {},
   "source": [
    "```{note}\n",
    "Compare los tiempos de conexión y lectura de información de las dos librerías, que puede concluir de esta prueba.\n",
    "```"
   ]
  },
  {
   "cell_type": "markdown",
   "metadata": {},
   "source": [
    "## Carga masiva de datos \n",
    "En este proceso realizaremos una carga de datos realizando previamente una transformación de la información."
   ]
  },
  {
   "cell_type": "code",
   "execution_count": 40,
   "metadata": {},
   "outputs": [],
   "source": [
    "# librerias\n",
    "import re\n",
    "import io\n",
    "from unicodedata import normalize"
   ]
  },
  {
   "cell_type": "markdown",
   "metadata": {},
   "source": [
    "En algunos casos es necesario realizar algunas transformaciones básicas a la información recibida antes de realizar el proceso de carga a la base de datos\n",
    "\n",
    "En este artículo pueden encontrar información adicional acerca de la función normalize y el parámetro NFC. https://towardsdatascience.com/what-on-earth-is-unicode-normalization-56c005c55ad0"
   ]
  },
  {
   "cell_type": "code",
   "execution_count": 41,
   "metadata": {},
   "outputs": [],
   "source": [
    "# función de transformación del texto  para los nombres de las columnas en sql\n",
    "def formatcolumn(text,flag = True):\n",
    "    text = text.lower()\n",
    "    text = re.sub('<.*?>', '', text)\n",
    "    text = re.sub(':.*?:', '', text)\n",
    "    text = re.sub(r\"([^n\\u0300-\\u036f]|n(?!\\u0303(?![\\u0300-\\u036f])))[\\u0300-\\u036f]+\", r\"\\1\", normalize( \"NFD\", text), 0, re.I)\n",
    "    text = normalize( 'NFC', text)\n",
    "    if flag:\n",
    "        text = re.sub('[^a-z0-9 ]', '', text)\n",
    "    else:\n",
    "        text = re.sub('[^a-z0-9]', '', text)\n",
    "    return text "
   ]
  },
  {
   "cell_type": "markdown",
   "metadata": {},
   "source": [
    "Lectura del archivo de información entregado antes de la carga a la base de datos, como puede observar la columna yr_mo fue cambiada a yrmo."
   ]
  },
  {
   "cell_type": "code",
   "execution_count": 42,
   "metadata": {},
   "outputs": [
    {
     "name": "stdout",
     "output_type": "stream",
     "text": [
      "(15, 3)\n"
     ]
    },
    {
     "data": {
      "text/html": [
       "<div>\n",
       "<style scoped>\n",
       "    .dataframe tbody tr th:only-of-type {\n",
       "        vertical-align: middle;\n",
       "    }\n",
       "\n",
       "    .dataframe tbody tr th {\n",
       "        vertical-align: top;\n",
       "    }\n",
       "\n",
       "    .dataframe thead th {\n",
       "        text-align: right;\n",
       "    }\n",
       "</style>\n",
       "<table border=\"1\" class=\"dataframe\">\n",
       "  <thead>\n",
       "    <tr style=\"text-align: right;\">\n",
       "      <th></th>\n",
       "      <th>yrmo</th>\n",
       "      <th>metric</th>\n",
       "      <th>target</th>\n",
       "    </tr>\n",
       "  </thead>\n",
       "  <tbody>\n",
       "    <tr>\n",
       "      <th>0</th>\n",
       "      <td>201706</td>\n",
       "      <td>AHT</td>\n",
       "      <td>780</td>\n",
       "    </tr>\n",
       "    <tr>\n",
       "      <th>1</th>\n",
       "      <td>201706</td>\n",
       "      <td>CALL_REGEN</td>\n",
       "      <td>0.167</td>\n",
       "    </tr>\n",
       "    <tr>\n",
       "      <th>2</th>\n",
       "      <td>201706</td>\n",
       "      <td>TRANSFERS</td>\n",
       "      <td>0.082</td>\n",
       "    </tr>\n",
       "    <tr>\n",
       "      <th>3</th>\n",
       "      <td>201706</td>\n",
       "      <td>APPLIED_PER_CALL</td>\n",
       "      <td>0.505</td>\n",
       "    </tr>\n",
       "    <tr>\n",
       "      <th>4</th>\n",
       "      <td>201706</td>\n",
       "      <td>BREAKAGE</td>\n",
       "      <td>0.201</td>\n",
       "    </tr>\n",
       "  </tbody>\n",
       "</table>\n",
       "</div>"
      ],
      "text/plain": [
       "     yrmo            metric target\n",
       "0  201706               AHT    780\n",
       "1  201706        CALL_REGEN  0.167\n",
       "2  201706         TRANSFERS  0.082\n",
       "3  201706  APPLIED_PER_CALL  0.505\n",
       "4  201706          BREAKAGE  0.201"
      ]
     },
     "execution_count": 42,
     "metadata": {},
     "output_type": "execute_result"
    }
   ],
   "source": [
    "data= pd.read_csv('datos/Targets.csv', dtype='str')\n",
    "data.columns = [formatcolumn(val,False) for val in data.columns]\n",
    "print(data.shape)\n",
    "data.head()"
   ]
  },
  {
   "cell_type": "markdown",
   "metadata": {},
   "source": [
    "En algunas ocasiones, es necesario limpiar carácteres adicionales como retorno de línea (enter)"
   ]
  },
  {
   "cell_type": "code",
   "execution_count": 43,
   "metadata": {},
   "outputs": [],
   "source": [
    "# Limpieza de otros carácteres especiales\n",
    "data = data.replace('\\n','', regex=True)\n",
    "data = data.replace('\\r','', regex=True)"
   ]
  },
  {
   "cell_type": "markdown",
   "metadata": {},
   "source": [
    "La carga de datos se realiza con ayuda de la librería de StringIO para manejar el contenido del dataframe en memoria y acelerar el proceso de escritura "
   ]
  },
  {
   "cell_type": "code",
   "execution_count": 45,
   "metadata": {},
   "outputs": [],
   "source": [
    "from io import StringIO\n",
    "\n",
    "output = StringIO()\n",
    "data.to_csv(output, sep=';', header=False, index=False, columns=data.columns)\n",
    "output.getvalue()\n",
    "# jump to start of stream\n",
    "output.seek(0)\n",
    "\n",
    "# Insert df into postgres\n",
    "connection = connAlchemy.raw_connection()\n",
    "with connection.cursor() as cursor:\n",
    "    cursor.copy_from(output, \"targets_nb\", sep=';', null=\"NULL\", columns=(data.columns))\n",
    "    connection.commit()"
   ]
  },
  {
   "cell_type": "code",
   "execution_count": 16,
   "metadata": {},
   "outputs": [],
   "source": [
    "#cur.execute(\"ROLLBACK\")\n",
    "#https://stackoverflow.com/questions/2979369/databaseerror-current-transaction-is-aborted-commands-ignored-until-end-of-tra"
   ]
  },
  {
   "cell_type": "markdown",
   "metadata": {},
   "source": [
    "## Uso de SQLAlchemy com ORM (Object Relational Mapper)\n",
    "\n",
    "Al realizar procesos de extracción o carga de datos, **es conveniente independizar las tareas de procesamiento de la información del tipo de base de datos** con las que se esté trabajando, como hemos visto hasta el momento, la librería `psycopg2` trabaja específicamente con postgresql y sentencias de SQL. Por otro lado SQLAlchemy puede interpretar requerimientos concretos de funciones como `read_sql` de la librería pandas.\n",
    "\n",
    "Para lograr esta independencia podemos usar el concepto de ORM o  Mapeo objeto-relacional, para usar la lógica de la programación orientada a objetos para convertir la información disponible en una fuente de datos relacional (tipo SQL)\n",
    "\n",
    "```{note}\n",
    "Información adicional puede ser consultada en https://docs.sqlalchemy.org/en/14/orm/quickstart.html\n",
    "```\n"
   ]
  },
  {
   "cell_type": "code",
   "execution_count": 46,
   "metadata": {},
   "outputs": [],
   "source": [
    "from sqlalchemy import Column\n",
    "from sqlalchemy import ForeignKey\n",
    "from sqlalchemy import Integer\n",
    "from sqlalchemy import String\n",
    "from sqlalchemy.orm import declarative_base\n",
    "from sqlalchemy.orm import relationship"
   ]
  },
  {
   "cell_type": "markdown",
   "metadata": {},
   "source": [
    "Instancia de la clase declarative_base para la construcción de las clases asociadas a cada objeto de la base de datos."
   ]
  },
  {
   "cell_type": "code",
   "execution_count": 47,
   "metadata": {},
   "outputs": [],
   "source": [
    "Base = declarative_base()"
   ]
  },
  {
   "cell_type": "markdown",
   "metadata": {},
   "source": [
    "Definción del objeto Hierarchy con sus elementos para el manejo independiente de la base de datos."
   ]
  },
  {
   "cell_type": "code",
   "execution_count": 48,
   "metadata": {},
   "outputs": [],
   "source": [
    "\n",
    "class Hierarchy_nueva(Base):\n",
    "    __tablename__= \"hierarchy_nueva\"\n",
    "\n",
    "    id = Column(Integer, primary_key=True)\n",
    "    eff_dt = Column(String(30))\n",
    "    term_dt = Column(String(30))\n",
    "    agent_id = Column(Integer)\n",
    "    agent_name = Column(String)\n",
    "    team_lead_id = Column(Integer)\n",
    "    team_lead_name = Column(String)\n",
    "    call_center = Column(String)\n",
    "\n",
    "    def __repr__(self):\n",
    "        return f\"Hierarchy_nueva(id={self.id!r}, eff_dt={self.eff_dt!r}, term_dt={self.term_dt!r}, \\\n",
    "                agent_id = {self.agent_id!r}, agent_name = {self.agent_name!r} team_lead_id = {self.team_lead_id!r}, \\\n",
    "                team_lead_name = {self.team_lead_name!r}, call_center = {self.call_center!r}\"        "
   ]
  },
  {
   "cell_type": "markdown",
   "metadata": {},
   "source": [
    "Conexión con una base de datos local con en AWS"
   ]
  },
  {
   "cell_type": "code",
   "execution_count": 49,
   "metadata": {},
   "outputs": [],
   "source": [
    "from venv import create\n",
    "from sqlalchemy import create_engine\n",
    "#engine = create_engine(\"sqlite:///databasesqlite.db\", echo=True, future=True)"
   ]
  },
  {
   "cell_type": "markdown",
   "metadata": {},
   "source": [
    "A partir de las clases creadas para la instancia Base y sus correspondientes elementos, crear la tabla en el código de creación de la tabla (DDL - Data Definition Language)"
   ]
  },
  {
   "cell_type": "code",
   "execution_count": 50,
   "metadata": {},
   "outputs": [],
   "source": [
    "Base.metadata.create_all(connAlchemy) #conexion previamente creada"
   ]
  },
  {
   "cell_type": "markdown",
   "metadata": {},
   "source": [
    "Creación de una sesión de conexión con SQLAlchemy"
   ]
  },
  {
   "cell_type": "code",
   "execution_count": 51,
   "metadata": {},
   "outputs": [],
   "source": [
    "from sqlalchemy.orm import Session"
   ]
  },
  {
   "cell_type": "markdown",
   "metadata": {},
   "source": [
    "Crear dos agentes dentro de la base datos en la tabla Hierarchy."
   ]
  },
  {
   "cell_type": "code",
   "execution_count": 53,
   "metadata": {},
   "outputs": [],
   "source": [
    "with Session(connAlchemy) as session:\n",
    "\n",
    "    albertanderson = Hierarchy_nueva(\n",
    "         eff_dt=\"2017-05-01\",\n",
    "         term_dt=\"2017-12-31\",\n",
    "         agent_id = 201700121,\n",
    "         agent_name = \"Alberto Anderson\",\n",
    "         team_lead_id = 201700011,\n",
    "         team_lead_name = \"Aceona Winnerson\",\n",
    "         call_center = \"Williamburg\" \n",
    "     )\n",
    "    bartbinnig = Hierarchy_nueva(\n",
    "         eff_dt=\"2017-05-01\",\n",
    "         term_dt=\"2017-12-31\",\n",
    "         agent_id = 201700122,\n",
    "         agent_name = \"Bart Simpson\",\n",
    "         team_lead_id = 201700011,\n",
    "         team_lead_name = \"Aceona Winnerson\",\n",
    "         call_center = \"Williamburg\" \n",
    "     )\n",
    "    session.add_all([albertanderson, bartbinnig])\n",
    "\n",
    "    session.commit()"
   ]
  },
  {
   "cell_type": "markdown",
   "metadata": {},
   "source": [
    "## Conclusiones\n",
    "\n",
    "Existen diferentes métodos de conexión a una base de datos de tipo SQL, cada una con sus ventajas dependiendo de la implementación que se quiera lograr.\n",
    "\n",
    "Si la interacción con diferentes motores de bases de datos es constante en los procesos de extracción, transformación y carga, es conveniente implementar soluciones que incluyan la opción de ORM.\n",
    "\n",
    "Normalmente para conexiones en producción deben involucrarse condiciones adicionales de seguridad dependiendo de la ubicación de la base de datos, protocolos y llaves de seguridad como SSH y archivos .pem.\n"
   ]
  },
  {
   "cell_type": "markdown",
   "metadata": {},
   "source": [
    "\n",
    "Guías de Aprendizaje © 2023 by [Rodolfo Meza](https://www.linkedin.com/in/rodolfomeza/) is licensed under [CC BY-NC-SA 4.0](http://creativecommons.org/licenses/by-nc-sa/4.0/?ref=chooser-v1)"
   ]
  }
 ],
 "metadata": {
  "kernelspec": {
   "display_name": "Python 3.10.6 ('unisabana')",
   "language": "python",
   "name": "python3"
  },
  "language_info": {
   "codemirror_mode": {
    "name": "ipython",
    "version": 3
   },
   "file_extension": ".py",
   "mimetype": "text/x-python",
   "name": "python",
   "nbconvert_exporter": "python",
   "pygments_lexer": "ipython3",
   "version": "3.12.3"
  },
  "orig_nbformat": 4,
  "vscode": {
   "interpreter": {
    "hash": "b8ec8e4e83bb1397e725f65ee6948f75087230d8a2753a8d1167dc7682a38a6f"
   }
  }
 },
 "nbformat": 4,
 "nbformat_minor": 2
}
